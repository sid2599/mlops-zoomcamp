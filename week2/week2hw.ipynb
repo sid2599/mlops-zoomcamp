{
 "cells": [
  {
   "cell_type": "code",
   "execution_count": 1,
   "id": "cdc6c6c2",
   "metadata": {},
   "outputs": [],
   "source": [
    "import pandas as pd"
   ]
  },
  {
   "cell_type": "code",
   "execution_count": 2,
   "id": "3f1e04fa",
   "metadata": {},
   "outputs": [],
   "source": [
    "df1 = pd.read_parquet(\"https://d37ci6vzurychx.cloudfront.net/trip-data/green_tripdata_2023-01.parquet\")\n",
    "df2 = pd.read_parquet(\"https://d37ci6vzurychx.cloudfront.net/trip-data/green_tripdata_2023-02.parquet\")\n",
    "df3 = pd.read_parquet(\"https://d37ci6vzurychx.cloudfront.net/trip-data/green_tripdata_2023-03.parquet\")"
   ]
  },
  {
   "cell_type": "code",
   "execution_count": 3,
   "id": "fbc74858",
   "metadata": {},
   "outputs": [],
   "source": [
    "df1.to_parquet('green_tripdata_2023-01.parquet')\n",
    "df2.to_parquet('green_tripdata_2023-02.parquet')\n",
    "df3.to_parquet('green_tripdata_2023-03.parquet')"
   ]
  },
  {
   "cell_type": "code",
   "execution_count": null,
   "id": "73460424",
   "metadata": {},
   "outputs": [],
   "source": []
  }
 ],
 "metadata": {
  "kernelspec": {
   "display_name": "Python 3 (ipykernel)",
   "language": "python",
   "name": "python3"
  },
  "language_info": {
   "codemirror_mode": {
    "name": "ipython",
    "version": 3
   },
   "file_extension": ".py",
   "mimetype": "text/x-python",
   "name": "python",
   "nbconvert_exporter": "python",
   "pygments_lexer": "ipython3",
   "version": "3.9.12"
  }
 },
 "nbformat": 4,
 "nbformat_minor": 5
}
